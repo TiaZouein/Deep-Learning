{
 "cells": [
  {
   "cell_type": "markdown",
   "metadata": {},
   "source": [
    "Convolutional Neural Network (CNN) \n",
    "Multi-Layer Perceptron (MLP)"
   ]
  },
  {
   "cell_type": "code",
   "execution_count": 2,
   "metadata": {
    "id": "IyQLN4h12rQs"
   },
   "outputs": [
    {
     "name": "stderr",
     "output_type": "stream",
     "text": [
      "2023-03-13 02:02:44.683347: I tensorflow/core/platform/cpu_feature_guard.cc:193] This TensorFlow binary is optimized with oneAPI Deep Neural Network Library (oneDNN) to use the following CPU instructions in performance-critical operations:  SSE4.1 SSE4.2 AVX AVX2 FMA\n",
      "To enable them in other operations, rebuild TensorFlow with the appropriate compiler flags.\n"
     ]
    }
   ],
   "source": [
    "import scipy\n",
    "import numpy as np # manipulate N-dimensional arrays\n",
    "import pandas as pd # data frame\n",
    "import matplotlib.pyplot as plt # data plotting\n",
    "import seaborn # advanced data plotting\n",
    "from sklearn import preprocessing # basic ML models\n",
    "# import scipy # scientific computing library\n",
    "\n",
    "import tensorflow as tf\n",
    "import keras\n",
    "\n",
    "import os"
   ]
  },
  {
   "cell_type": "markdown",
   "metadata": {},
   "source": [
    "Load the data"
   ]
  },
  {
   "cell_type": "markdown",
   "metadata": {
    "id": "Q4mOqT7X2rQ6"
   },
   "source": [
    "#### Description of the data: \n",
    "There are  labeled subsets of the 80 million tiny images dataset and consists of 60000 **32x32** RGB images in 10 classes, with 6000 images per class. There are **50000 training images** and **10000 test images**. Source: https://www.cs.toronto.edu/~kriz/cifar.html"
   ]
  },
  {
   "cell_type": "markdown",
   "metadata": {
    "id": "sDAJo51DOz3z"
   },
   "source": [
    "The data can be directly downloaded with Keras."
   ]
  },
  {
   "cell_type": "code",
   "execution_count": null,
   "metadata": {
    "id": "MEGEPlSz2rQ6"
   },
   "outputs": [],
   "source": [
    "from keras.datasets import cifar10\n",
    "from keras import backend as K"
   ]
  },
  {
   "cell_type": "code",
   "execution_count": null,
   "metadata": {
    "colab": {
     "base_uri": "https://localhost:8080/"
    },
    "id": "Jngi0lmF2rQ6",
    "outputId": "a0f51a05-65e4-48cc-fa8e-374ffc69dccf"
   },
   "outputs": [
    {
     "name": "stdout",
     "output_type": "stream",
     "text": [
      "x_train shape: (50000, 32, 32, 3)\n",
      "50000 train samples\n",
      "(50000, 1) train samples\n",
      "10000 test samples\n"
     ]
    }
   ],
   "source": [
    "K.set_image_data_format('channels_last')\n",
    "(x_train_original, y_train_original), (x_test, y_test) = cifar10.load_data()\n",
    "print('x_train shape:', x_train_original.shape)\n",
    "print(x_train_original.shape[0], 'train samples')\n",
    "print(y_train_original.shape, 'train samples')\n",
    "print(x_test.shape[0], 'test samples')\n"
   ]
  },
  {
   "cell_type": "code",
   "execution_count": null,
   "metadata": {
    "colab": {
     "base_uri": "https://localhost:8080/"
    },
    "id": "QoBEARIB2rQ7",
    "outputId": "27c85c90-a5f9-4a0c-ad46-9371d606d707"
   },
   "outputs": [
    {
     "data": {
      "text/plain": [
       "10"
      ]
     },
     "execution_count": 9,
     "metadata": {},
     "output_type": "execute_result"
    }
   ],
   "source": [
    "num_classes = y_train_original.max() +1\n",
    "num_classes"
   ]
  },
  {
   "cell_type": "code",
   "execution_count": null,
   "metadata": {
    "colab": {
     "base_uri": "https://localhost:8080/",
     "height": 285
    },
    "id": "ICfdXJ_LP9Ao",
    "outputId": "206a875f-552a-4155-ef9b-e48c350d2734"
   },
   "outputs": [
    {
     "data": {
      "text/plain": [
       "<matplotlib.image.AxesImage at 0x7fab90073250>"
      ]
     },
     "execution_count": 10,
     "metadata": {},
     "output_type": "execute_result"
    },
    {
     "data": {
      "image/png": "[encoded data removed]",
      "text/plain": [
       "<Figure size 432x288 with 1 Axes>"
      ]
     },
     "metadata": {
      "needs_background": "light"
     },
     "output_type": "display_data"
    }
   ],
   "source": [
    "plt.imshow(x_train_original[1])"
   ]
  },
  {
   "cell_type": "code",
   "execution_count": null,
   "metadata": {
    "colab": {
     "base_uri": "https://localhost:8080/"
    },
    "id": "UIFyf0DMQMWM",
    "outputId": "968f65d8-ef53-406e-9f3e-4b8331e17e21"
   },
   "outputs": [
    {
     "data": {
      "text/plain": [
       "array([[6],\n",
       "       [9],\n",
       "       [9],\n",
       "       ...,\n",
       "       [9],\n",
       "       [1],\n",
       "       [1]], dtype=uint8)"
      ]
     },
     "execution_count": 11,
     "metadata": {},
     "output_type": "execute_result"
    }
   ],
   "source": [
    "y_train_original"
   ]
  },
  {
   "cell_type": "code",
   "execution_count": null,
   "metadata": {
    "id": "dlIrbVWgQMWM"
   },
   "outputs": [],
   "source": [
    "LABELS = {\n",
    "    0 : \"airplane\", \n",
    "    1 : \"automobile\", \n",
    "    2 : \"bird\", \n",
    "    3 : \"cat\", \n",
    "    4 : \"deer\",           \n",
    "    5 : \"dog\", \n",
    "    6 : \"frog\",\n",
    "    7 : \"horse\", \n",
    "    8 : \"ship\",\n",
    "    9 : \"truck\"\n",
    "}"
   ]
  },
  {
   "cell_type": "markdown",
   "metadata": {},
   "source": [
    "Preprocess the data"
   ]
  },
  {
   "cell_type": "markdown",
   "metadata": {
    "id": "wvdD5yWtQMWM"
   },
   "source": [
    "- Data cleaning\n",
    "- Data conversion\n",
    "- Data normalization\n",
    "- Data split"
   ]
  },
  {
   "cell_type": "markdown",
   "metadata": {
    "id": "vfzCnFksQMWM"
   },
   "source": [
    "#### Data split"
   ]
  },
  {
   "cell_type": "markdown",
   "metadata": {
    "id": "c4pRoGTVQMWM"
   },
   "source": [
    "Split: Train 40000, Val 10000, Test 10000."
   ]
  },
  {
   "cell_type": "code",
   "execution_count": null,
   "metadata": {
    "id": "EF3IdcdhQMWM"
   },
   "outputs": [],
   "source": [
    "from sklearn.model_selection import train_test_split"
   ]
  },
  {
   "cell_type": "code",
   "execution_count": null,
   "metadata": {
    "id": "GqTJ3nX_QMWM"
   },
   "outputs": [],
   "source": [
    "x_train, x_val, y_train, y_val = train_test_split(x_train_original, y_train_original, test_size=10000, random_state=42, shuffle= True,stratify=y_train_original)"
   ]
  },
  {
   "cell_type": "markdown",
   "metadata": {
    "id": "BX7Hv2JkQMWM"
   },
   "source": [
    "Check:"
   ]
  },
  {
   "cell_type": "code",
   "execution_count": null,
   "metadata": {
    "colab": {
     "base_uri": "https://localhost:8080/"
    },
    "id": "W_Iz5H0hQMWM",
    "outputId": "838612da-cfa7-41cd-9ee5-d8097591cab8"
   },
   "outputs": [
    {
     "data": {
      "text/plain": [
       "(40000, 32, 32, 3)"
      ]
     },
     "execution_count": 15,
     "metadata": {},
     "output_type": "execute_result"
    }
   ],
   "source": [
    "x_train.shape"
   ]
  },
  {
   "cell_type": "code",
   "execution_count": null,
   "metadata": {
    "colab": {
     "base_uri": "https://localhost:8080/"
    },
    "id": "v_jh9_tkQMWN",
    "outputId": "bdf6cd54-9374-4d51-ca13-edbb96ec5690"
   },
   "outputs": [
    {
     "data": {
      "text/plain": [
       "(10000, 32, 32, 3)"
      ]
     },
     "execution_count": 16,
     "metadata": {},
     "output_type": "execute_result"
    }
   ],
   "source": [
    "x_val.shape"
   ]
  },
  {
   "cell_type": "code",
   "execution_count": null,
   "metadata": {
    "colab": {
     "base_uri": "https://localhost:8080/"
    },
    "id": "sKZDxtdoQMWO",
    "outputId": "b9753088-b4c4-4851-f686-368c8eef34f0"
   },
   "outputs": [
    {
     "data": {
      "text/plain": [
       "(10000, 32, 32, 3)"
      ]
     },
     "execution_count": 17,
     "metadata": {},
     "output_type": "execute_result"
    }
   ],
   "source": [
    "x_test.shape"
   ]
  },
  {
   "cell_type": "code",
   "execution_count": null,
   "metadata": {
    "id": "unIzYori8tk6"
   },
   "outputs": [],
   "source": [
    "from collections import Counter"
   ]
  },
  {
   "cell_type": "code",
   "execution_count": null,
   "metadata": {
    "colab": {
     "base_uri": "https://localhost:8080/"
    },
    "id": "WmK5rPZc8zjm",
    "outputId": "701a9361-6ab0-4435-c6e2-78de54b3b19b"
   },
   "outputs": [
    {
     "data": {
      "text/plain": [
       "Counter({0: 4000,\n",
       "         1: 4000,\n",
       "         2: 4000,\n",
       "         3: 4000,\n",
       "         4: 4000,\n",
       "         5: 4000,\n",
       "         6: 4000,\n",
       "         7: 4000,\n",
       "         8: 4000,\n",
       "         9: 4000})"
      ]
     },
     "execution_count": 19,
     "metadata": {},
     "output_type": "execute_result"
    }
   ],
   "source": [
    "Counter(list(y_train.reshape(-1)))\n"
   ]
  },
  {
   "cell_type": "code",
   "execution_count": null,
   "metadata": {
    "colab": {
     "base_uri": "https://localhost:8080/"
    },
    "id": "aA6n1tce9C-i",
    "outputId": "d8fdc854-172c-40fa-fe91-f8b617e88ce8"
   },
   "outputs": [
    {
     "data": {
      "text/plain": [
       "Counter({0: 1000,\n",
       "         1: 1000,\n",
       "         2: 1000,\n",
       "         3: 1000,\n",
       "         4: 1000,\n",
       "         5: 1000,\n",
       "         6: 1000,\n",
       "         7: 1000,\n",
       "         8: 1000,\n",
       "         9: 1000})"
      ]
     },
     "execution_count": 20,
     "metadata": {},
     "output_type": "execute_result"
    }
   ],
   "source": [
    "Counter(list(y_test.reshape(-1)))\n"
   ]
  },
  {
   "cell_type": "markdown",
   "metadata": {
    "id": "f122cKMGQMWO"
   },
   "source": [
    "#### Convert class vectors to binary class matrices. (one-hot encoding)"
   ]
  },
  {
   "cell_type": "markdown",
   "metadata": {
    "id": "kDbQBBlZSTo8"
   },
   "source": [
    "The output layer of the neural network contains as many neurons as there are classes. For a given sample, each output neuron gives the probability to belong to the corresponding class.\n",
    "The ground-truth labels need to be formated in the same way such as for each sample, we have a vector of shape the number of classes: i.e., ${y}_{i,k}=1$ when the $i$-th sample belongs to the class $k$, or $0$ otherwise. Note that $\\sum_{k=1}^K{y}_{i,k}=1$.\n",
    "\n",
    "This will help the comparison in the loss function:\n",
    "$L=\\sum_{i=1}^N \\sum_{k=1}^K \\left( -y_{i,k}\\log\\hat{y}_{i,k} \\right)$ where ${y}_{i,k}$ is the indicator of the true class, $\\hat{y}_{i,k}$ is the probability that the $i$-th sample belongs to the class $k$, $N$ and $K$ are respectively the number of samples in the training set and the number of classes\n",
    "\n",
    "\n"
   ]
  },
  {
   "cell_type": "code",
   "execution_count": null,
   "metadata": {
    "id": "WFUDf6TbV8qn"
   },
   "outputs": [],
   "source": [
    "from tensorflow.keras.utils import to_categorical"
   ]
  },
  {
   "cell_type": "code",
   "execution_count": null,
   "metadata": {
    "colab": {
     "base_uri": "https://localhost:8080/"
    },
    "id": "2f0jM3mEWPoV",
    "outputId": "4b40ddbc-428e-4b9d-db84-227060c3fdc7"
   },
   "outputs": [
    {
     "data": {
      "text/plain": [
       "(50000, 1)"
      ]
     },
     "execution_count": 22,
     "metadata": {},
     "output_type": "execute_result"
    }
   ],
   "source": [
    "y_train_original.shape"
   ]
  },
  {
   "cell_type": "code",
   "execution_count": null,
   "metadata": {
    "id": "fcFMj7aQQMWO"
   },
   "outputs": [],
   "source": [
    "y_train_original = to_categorical(y_train_original, num_classes)\n",
    "y_test = to_categorical(y_test, num_classes)\n",
    "y_train = to_categorical(y_train, num_classes)\n",
    "y_val = to_categorical(y_val, num_classes)"
   ]
  },
  {
   "cell_type": "code",
   "execution_count": null,
   "metadata": {
    "colab": {
     "base_uri": "https://localhost:8080/"
    },
    "id": "AzEpKshxWCGs",
    "outputId": "f4d953d5-882b-4766-b5ca-0e41621c247b"
   },
   "outputs": [
    {
     "data": {
      "text/plain": [
       "(50000, 10)"
      ]
     },
     "execution_count": 24,
     "metadata": {},
     "output_type": "execute_result"
    }
   ],
   "source": [
    "y_train_original.shape"
   ]
  },
  {
   "cell_type": "markdown",
   "metadata": {
    "id": "YDo1OglKQMWO"
   },
   "source": [
    "#### Normalize the data"
   ]
  },
  {
   "cell_type": "markdown",
   "metadata": {
    "id": "-GhPLPbCQMWO"
   },
   "source": [
    "Here, the MinMax scaling is used : $\\frac{x-\\min(x)}{\\max(x)-\\min(x)}$  \n",
    "The images are just divided by the maximun value of a pixel because the minimum is 0."
   ]
  },
  {
   "cell_type": "code",
   "execution_count": null,
   "metadata": {
    "id": "DVhIdRlyQMWO"
   },
   "outputs": [],
   "source": [
    "# The data must be converted into float in order to normalize them.\n",
    "x_train_original = x_train_original.astype('float32')\n",
    "x_test = x_test.astype('float32')\n",
    "x_train = x_train.astype('float32')\n",
    "x_val = x_val.astype('float32')\n",
    "\n",
    "x_train_original /= 255\n",
    "x_test /= 255\n",
    "x_train /= 255\n",
    "x_val /= 255"
   ]
  },
  {
   "cell_type": "code",
   "execution_count": null,
   "metadata": {
    "id": "bQvBEIjM_V6g"
   },
   "outputs": [],
   "source": [
    "from tensorflow.keras.models import Model,Sequential"
   ]
  },
  {
   "cell_type": "code",
   "execution_count": null,
   "metadata": {
    "id": "t83EQvqyCqN_"
   },
   "outputs": [],
   "source": [
    "from tensorflow.keras.layers import Input, Dense, BatchNormalization, Dropout, ReLU, Activation, Flatten, Conv2D, MaxPooling2D"
   ]
  },
  {
   "cell_type": "markdown",
   "metadata": {
    "id": "EkgpUMhZ1BU-"
   },
   "source": [
    "### CNN - finetuning"
   ]
  },
  {
   "cell_type": "code",
   "execution_count": null,
   "metadata": {
    "id": "-tmpbQHv3qpE"
   },
   "outputs": [],
   "source": [
    "model_CNN = Sequential()\n",
    "model_CNN.add(Conv2D(filters = 32, kernel_size= (3, 3), padding='same', strides=(1, 1),\n",
    "                 input_shape=x_train.shape[1:]))\n",
    "model_CNN.add(Activation('relu'))\n",
    "model_CNN.add(Conv2D(32, (3, 3)))\n",
    "model_CNN.add(Activation('relu'))\n",
    "model_CNN.add(MaxPooling2D(pool_size=(2, 2)))\n",
    "model_CNN.add(Dropout(0.2))\n",
    "\n",
    "model_CNN.add(Conv2D(64, (3, 3), padding='same'))\n",
    "model_CNN.add(Activation('relu'))\n",
    "model_CNN.add(Conv2D(64, (3, 3)))\n",
    "model_CNN.add(Activation('relu'))\n",
    "model_CNN.add(MaxPooling2D(pool_size=(2, 2)))\n",
    "model_CNN.add(Dropout(0.3))\n",
    "\n",
    "model_CNN.add(Conv2D(filters = 128, kernel_size= (3, 3), padding='same', strides=(1, 1), #add another block\n",
    "                 input_shape=x_train.shape[1:]))\n",
    "model_CNN.add(Activation('relu'))\n",
    "model_CNN.add(Conv2D(128, (3, 3)))\n",
    "model_CNN.add(Activation('relu'))\n",
    "model_CNN.add(MaxPooling2D(pool_size=(2, 2)))\n",
    "model_CNN.add(Dropout(0.6))\n",
    "\n",
    "model_CNN.add(Flatten())\n",
    "model_CNN.add(Dense(512))\n",
    "model_CNN.add(BatchNormalization()) #regularization on the fully connected network\n",
    "model_CNN.add(Activation('relu'))\n",
    "model_CNN.add(Dropout(0.5))\n",
    "model_CNN.add(Dense(num_classes))\n",
    "model_CNN.add(Activation('softmax'))"
   ]
  },
  {
   "cell_type": "markdown",
   "metadata": {
    "id": "szy8cyx6CjdI"
   },
   "source": [
    "#### Train the model"
   ]
  },
  {
   "cell_type": "code",
   "execution_count": null,
   "metadata": {
    "id": "EtQ9UPBQ37l_"
   },
   "outputs": [],
   "source": [
    "from keras.backend import clear_session\n",
    "clear_session()"
   ]
  },
  {
   "cell_type": "code",
   "execution_count": null,
   "metadata": {
    "id": "cQbKWVmDsZwp"
   },
   "outputs": [],
   "source": [
    "from tensorflow.keras.optimizers import Adam"
   ]
  },
  {
   "cell_type": "code",
   "execution_count": null,
   "metadata": {
    "colab": {
     "base_uri": "https://localhost:8080/"
    },
    "id": "7S1UW05l0r7Z",
    "outputId": "19c4544e-d478-4a76-e184-255364debe8f"
   },
   "outputs": [
    {
     "name": "stderr",
     "output_type": "stream",
     "text": [
      "/usr/local/lib/python3.7/dist-packages/keras/optimizer_v2/adam.py:105: UserWarning: The `lr` argument is deprecated, use `learning_rate` instead.\n",
      "  super(Adam, self).__init__(name, **kwargs)\n"
     ]
    }
   ],
   "source": [
    "opt = Adam(lr=0.001)"
   ]
  },
  {
   "cell_type": "code",
   "execution_count": null,
   "metadata": {
    "id": "2KB0xER-1MmR"
   },
   "outputs": [],
   "source": [
    "model_CNN.compile(loss='categorical_crossentropy',\n",
    "              optimizer=opt,\n",
    "              metrics=['accuracy'])"
   ]
  },
  {
   "cell_type": "code",
   "execution_count": null,
   "metadata": {
    "id": "9P6W-CHO0hRo"
   },
   "outputs": [],
   "source": [
    "from tensorflow.keras.callbacks import EarlyStopping\n",
    "es = EarlyStopping(monitor='val_loss', mode='min', verbose=1, patience = 10)"
   ]
  },
  {
   "cell_type": "code",
   "execution_count": null,
   "metadata": {
    "colab": {
     "base_uri": "https://localhost:8080/"
    },
    "id": "e92jue_01ZOd",
    "outputId": "e2a866ea-27cf-4f08-e00c-c5412f53471c"
   },
   "outputs": [
    {
     "name": "stdout",
     "output_type": "stream",
     "text": [
      "Epoch 1/50\n",
      "625/625 [==============================] - 25s 33ms/step - loss: 1.9020 - accuracy: 0.2684 - val_loss: 1.6238 - val_accuracy: 0.4247\n",
      "Epoch 2/50\n",
      "625/625 [==============================] - 15s 24ms/step - loss: 1.5645 - accuracy: 0.4155 - val_loss: 1.3855 - val_accuracy: 0.4914\n",
      "Epoch 3/50\n",
      "625/625 [==============================] - 14s 22ms/step - loss: 1.4238 - accuracy: 0.4771 - val_loss: 1.2543 - val_accuracy: 0.5384\n",
      "Epoch 4/50\n",
      "625/625 [==============================] - 17s 27ms/step - loss: 1.3189 - accuracy: 0.5225 - val_loss: 1.2071 - val_accuracy: 0.5575\n",
      "Epoch 5/50\n",
      "625/625 [==============================] - 19s 31ms/step - loss: 1.2307 - accuracy: 0.5586 - val_loss: 1.0647 - val_accuracy: 0.6183\n",
      "Epoch 6/50\n",
      "625/625 [==============================] - 21s 33ms/step - loss: 1.1513 - accuracy: 0.5915 - val_loss: 1.0749 - val_accuracy: 0.6162\n",
      "Epoch 7/50\n",
      "625/625 [==============================] - 20s 32ms/step - loss: 1.0710 - accuracy: 0.6197 - val_loss: 0.9058 - val_accuracy: 0.6769\n",
      "Epoch 8/50\n",
      "625/625 [==============================] - 21s 33ms/step - loss: 1.0040 - accuracy: 0.6468 - val_loss: 0.9264 - val_accuracy: 0.6666\n",
      "Epoch 9/50\n",
      "625/625 [==============================] - 16s 26ms/step - loss: 0.9596 - accuracy: 0.6623 - val_loss: 0.8441 - val_accuracy: 0.7006\n",
      "Epoch 10/50\n",
      "625/625 [==============================] - 15s 25ms/step - loss: 0.9168 - accuracy: 0.6788 - val_loss: 0.8156 - val_accuracy: 0.7046\n",
      "Epoch 11/50\n",
      "625/625 [==============================] - 15s 23ms/step - loss: 0.8752 - accuracy: 0.6939 - val_loss: 0.7564 - val_accuracy: 0.7291\n",
      "Epoch 12/50\n",
      "625/625 [==============================] - 14s 22ms/step - loss: 0.8383 - accuracy: 0.7099 - val_loss: 0.7990 - val_accuracy: 0.7190\n",
      "Epoch 13/50\n",
      "625/625 [==============================] - 14s 22ms/step - loss: 0.8188 - accuracy: 0.7161 - val_loss: 0.8430 - val_accuracy: 0.7044\n",
      "Epoch 14/50\n",
      "625/625 [==============================] - 14s 22ms/step - loss: 0.7852 - accuracy: 0.7271 - val_loss: 0.6953 - val_accuracy: 0.7537\n",
      "Epoch 15/50\n",
      "625/625 [==============================] - 14s 22ms/step - loss: 0.7656 - accuracy: 0.7340 - val_loss: 0.6668 - val_accuracy: 0.7686\n",
      "Epoch 16/50\n",
      "625/625 [==============================] - 15s 24ms/step - loss: 0.7399 - accuracy: 0.7459 - val_loss: 0.6717 - val_accuracy: 0.7628\n",
      "Epoch 17/50\n",
      "625/625 [==============================] - 15s 24ms/step - loss: 0.7218 - accuracy: 0.7504 - val_loss: 0.7108 - val_accuracy: 0.7538\n",
      "Epoch 18/50\n",
      "625/625 [==============================] - 14s 22ms/step - loss: 0.7058 - accuracy: 0.7575 - val_loss: 0.6418 - val_accuracy: 0.7751\n",
      "Epoch 19/50\n",
      "625/625 [==============================] - 14s 22ms/step - loss: 0.6829 - accuracy: 0.7644 - val_loss: 0.6551 - val_accuracy: 0.7729\n",
      "Epoch 20/50\n",
      "625/625 [==============================] - 14s 22ms/step - loss: 0.6709 - accuracy: 0.7693 - val_loss: 0.6208 - val_accuracy: 0.7827\n",
      "Epoch 21/50\n",
      "625/625 [==============================] - 14s 22ms/step - loss: 0.6503 - accuracy: 0.7749 - val_loss: 0.5970 - val_accuracy: 0.7921\n",
      "Epoch 22/50\n",
      "625/625 [==============================] - 14s 23ms/step - loss: 0.6428 - accuracy: 0.7793 - val_loss: 0.6752 - val_accuracy: 0.7660\n",
      "Epoch 23/50\n",
      "625/625 [==============================] - 15s 23ms/step - loss: 0.6380 - accuracy: 0.7804 - val_loss: 0.6320 - val_accuracy: 0.7811\n",
      "Epoch 24/50\n",
      "625/625 [==============================] - 14s 22ms/step - loss: 0.6174 - accuracy: 0.7887 - val_loss: 0.5956 - val_accuracy: 0.7931\n",
      "Epoch 25/50\n",
      "625/625 [==============================] - 14s 22ms/step - loss: 0.6112 - accuracy: 0.7911 - val_loss: 0.6430 - val_accuracy: 0.7775\n",
      "Epoch 26/50\n",
      "625/625 [==============================] - 14s 22ms/step - loss: 0.6025 - accuracy: 0.7928 - val_loss: 0.5851 - val_accuracy: 0.8013\n",
      "Epoch 27/50\n",
      "625/625 [==============================] - 14s 22ms/step - loss: 0.5909 - accuracy: 0.7976 - val_loss: 0.5812 - val_accuracy: 0.7994\n",
      "Epoch 28/50\n",
      "625/625 [==============================] - 14s 22ms/step - loss: 0.5806 - accuracy: 0.8025 - val_loss: 0.5901 - val_accuracy: 0.7998\n",
      "Epoch 29/50\n",
      "625/625 [==============================] - 14s 22ms/step - loss: 0.5668 - accuracy: 0.8064 - val_loss: 0.5797 - val_accuracy: 0.8008\n",
      "Epoch 30/50\n",
      "625/625 [==============================] - 14s 22ms/step - loss: 0.5602 - accuracy: 0.8087 - val_loss: 0.6196 - val_accuracy: 0.7928\n",
      "Epoch 31/50\n",
      "625/625 [==============================] - 14s 22ms/step - loss: 0.5535 - accuracy: 0.8089 - val_loss: 0.5623 - val_accuracy: 0.7995\n",
      "Epoch 32/50\n",
      "625/625 [==============================] - 14s 22ms/step - loss: 0.5442 - accuracy: 0.8101 - val_loss: 0.5881 - val_accuracy: 0.7961\n",
      "Epoch 33/50\n",
      "625/625 [==============================] - 14s 23ms/step - loss: 0.5350 - accuracy: 0.8145 - val_loss: 0.5466 - val_accuracy: 0.8103\n",
      "Epoch 34/50\n",
      "625/625 [==============================] - 14s 22ms/step - loss: 0.5301 - accuracy: 0.8188 - val_loss: 0.5640 - val_accuracy: 0.8031\n",
      "Epoch 35/50\n",
      "625/625 [==============================] - 14s 23ms/step - loss: 0.5203 - accuracy: 0.8202 - val_loss: 0.5345 - val_accuracy: 0.8144\n",
      "Epoch 36/50\n",
      "625/625 [==============================] - 14s 22ms/step - loss: 0.5168 - accuracy: 0.8226 - val_loss: 0.6034 - val_accuracy: 0.7901\n",
      "Epoch 37/50\n",
      "625/625 [==============================] - 14s 23ms/step - loss: 0.5122 - accuracy: 0.8231 - val_loss: 0.5549 - val_accuracy: 0.8074\n",
      "Epoch 38/50\n",
      "625/625 [==============================] - 14s 23ms/step - loss: 0.4975 - accuracy: 0.8273 - val_loss: 0.5393 - val_accuracy: 0.8146\n",
      "Epoch 39/50\n",
      "625/625 [==============================] - 14s 22ms/step - loss: 0.4983 - accuracy: 0.8293 - val_loss: 0.5536 - val_accuracy: 0.8087\n",
      "Epoch 40/50\n",
      "625/625 [==============================] - 14s 22ms/step - loss: 0.4888 - accuracy: 0.8311 - val_loss: 0.5570 - val_accuracy: 0.8019\n",
      "Epoch 41/50\n",
      "625/625 [==============================] - 14s 22ms/step - loss: 0.4849 - accuracy: 0.8327 - val_loss: 0.5151 - val_accuracy: 0.8212\n",
      "Epoch 42/50\n",
      "625/625 [==============================] - 14s 23ms/step - loss: 0.4737 - accuracy: 0.8357 - val_loss: 0.5466 - val_accuracy: 0.8117\n",
      "Epoch 43/50\n",
      "625/625 [==============================] - 14s 23ms/step - loss: 0.4700 - accuracy: 0.8381 - val_loss: 0.5581 - val_accuracy: 0.8093\n",
      "Epoch 44/50\n",
      "625/625 [==============================] - 14s 23ms/step - loss: 0.4657 - accuracy: 0.8411 - val_loss: 0.5793 - val_accuracy: 0.8079\n",
      "Epoch 45/50\n",
      "625/625 [==============================] - 14s 22ms/step - loss: 0.4558 - accuracy: 0.8438 - val_loss: 0.5654 - val_accuracy: 0.8075\n",
      "Epoch 46/50\n",
      "625/625 [==============================] - 14s 23ms/step - loss: 0.4533 - accuracy: 0.8432 - val_loss: 0.5349 - val_accuracy: 0.8182\n",
      "Epoch 47/50\n",
      "625/625 [==============================] - 14s 23ms/step - loss: 0.4475 - accuracy: 0.8433 - val_loss: 0.5095 - val_accuracy: 0.8262\n",
      "Epoch 48/50\n",
      "625/625 [==============================] - 14s 23ms/step - loss: 0.4490 - accuracy: 0.8443 - val_loss: 0.5376 - val_accuracy: 0.8191\n",
      "Epoch 49/50\n",
      "625/625 [==============================] - 14s 23ms/step - loss: 0.4413 - accuracy: 0.8486 - val_loss: 0.5778 - val_accuracy: 0.8099\n",
      "Epoch 50/50\n",
      "625/625 [==============================] - 14s 22ms/step - loss: 0.4321 - accuracy: 0.8503 - val_loss: 0.5309 - val_accuracy: 0.8186\n"
     ]
    }
   ],
   "source": [
    "batch_size = 64\n",
    "epochs = 50\n",
    "hist_CNN = model_CNN.fit(x_train, y_train,\n",
    "              batch_size=batch_size,\n",
    "              epochs=epochs,\n",
    "              validation_data=(x_val, y_val),\n",
    "              shuffle=True,callbacks=[es])"
   ]
  },
  {
   "cell_type": "code",
   "execution_count": null,
   "metadata": {
    "colab": {
     "base_uri": "https://localhost:8080/"
    },
    "id": "uApb3ZzUltgk",
    "outputId": "158482f9-d1a2-4777-b85b-d01f0306d6c3"
   },
   "outputs": [
    {
     "data": {
      "text/plain": [
       "array([3.13465061e-05, 5.56654231e-06, 5.87371935e-04, 9.71399844e-01,\n",
       "       1.06302876e-04, 2.58048140e-02, 1.79288466e-03, 2.29478712e-04,\n",
       "       3.30657822e-05, 9.32729199e-06], dtype=float32)"
      ]
     },
     "execution_count": 37,
     "metadata": {},
     "output_type": "execute_result"
    }
   ],
   "source": [
    "model_CNN.predict(x_test)[0]"
   ]
  },
  {
   "cell_type": "markdown",
   "metadata": {
    "id": "mATHTJYPQMWV"
   },
   "source": [
    "One trick to improve the CNN model is to use **data augmentation**. It works by adding a small pertubation to the input data (flipping, rotation, noise...). It acts as a regularizer and helps reduce overfitting. It is also a way to increase the number of examples."
   ]
  },
  {
   "cell_type": "markdown",
   "metadata": {
    "id": "_wknZ8zJQMWV"
   },
   "source": [
    "The object ImageDataGenerator and the method fit_generator have to be used."
   ]
  },
  {
   "cell_type": "code",
   "execution_count": null,
   "metadata": {
    "id": "dZCBl3JBQMWV"
   },
   "outputs": [],
   "source": [
    "import keras\n",
    "\n",
    "datagen = keras.preprocessing.image.ImageDataGenerator(\n",
    "    width_shift_range=0.1,  # randomly shift images horizontally (fraction of total width)\n",
    "    height_shift_range=0.1, # randomly shift images vertically (fraction of total height)\n",
    "    fill_mode='nearest', # set mode for filling points outside the input boundaries\n",
    "    horizontal_flip=True,  # randomly flip images\n",
    "    vertical_flip=False,  # randomly flip images\n",
    "    validation_split=0.0)"
   ]
  },
  {
   "cell_type": "code",
   "execution_count": null,
   "metadata": {
    "colab": {
     "base_uri": "https://localhost:8080/"
    },
    "id": "z5jO7KzuQMWV",
    "outputId": "2cb232c8-4c9e-4b4f-f736-6ee67a7d656f",
    "scrolled": true
   },
   "outputs": [
    {
     "name": "stdout",
     "output_type": "stream",
     "text": [
      "Epoch 1/70\n",
      "625/625 [==============================] - 23s 37ms/step - loss: 0.5870 - accuracy: 0.8018 - val_loss: 0.5572 - val_accuracy: 0.8009\n",
      "Epoch 2/70\n",
      "625/625 [==============================] - 23s 37ms/step - loss: 0.5782 - accuracy: 0.8012 - val_loss: 0.5004 - val_accuracy: 0.8212\n",
      "Epoch 3/70\n",
      "625/625 [==============================] - 23s 37ms/step - loss: 0.5806 - accuracy: 0.8040 - val_loss: 0.4932 - val_accuracy: 0.8259\n",
      "Epoch 4/70\n",
      "625/625 [==============================] - 23s 36ms/step - loss: 0.5786 - accuracy: 0.8032 - val_loss: 0.5156 - val_accuracy: 0.8159\n",
      "Epoch 5/70\n",
      "625/625 [==============================] - 23s 37ms/step - loss: 0.5773 - accuracy: 0.8039 - val_loss: 0.5323 - val_accuracy: 0.8112\n",
      "Epoch 6/70\n",
      "625/625 [==============================] - 23s 37ms/step - loss: 0.5687 - accuracy: 0.8064 - val_loss: 0.4985 - val_accuracy: 0.8220\n",
      "Epoch 7/70\n",
      "625/625 [==============================] - 24s 38ms/step - loss: 0.5700 - accuracy: 0.8083 - val_loss: 0.4944 - val_accuracy: 0.8282\n",
      "Epoch 8/70\n",
      "625/625 [==============================] - 23s 37ms/step - loss: 0.5689 - accuracy: 0.8072 - val_loss: 0.5385 - val_accuracy: 0.8095\n",
      "Epoch 9/70\n",
      "625/625 [==============================] - 23s 37ms/step - loss: 0.5606 - accuracy: 0.8113 - val_loss: 0.5247 - val_accuracy: 0.8164\n",
      "Epoch 10/70\n",
      "625/625 [==============================] - 23s 37ms/step - loss: 0.5527 - accuracy: 0.8133 - val_loss: 0.4761 - val_accuracy: 0.8316\n",
      "Epoch 11/70\n",
      "625/625 [==============================] - 24s 38ms/step - loss: 0.5615 - accuracy: 0.8096 - val_loss: 0.5245 - val_accuracy: 0.8156\n",
      "Epoch 12/70\n",
      "625/625 [==============================] - 23s 37ms/step - loss: 0.5561 - accuracy: 0.8138 - val_loss: 0.5280 - val_accuracy: 0.8104\n",
      "Epoch 13/70\n",
      "625/625 [==============================] - 24s 38ms/step - loss: 0.5515 - accuracy: 0.8106 - val_loss: 0.5115 - val_accuracy: 0.8219\n",
      "Epoch 14/70\n",
      "625/625 [==============================] - 23s 37ms/step - loss: 0.5496 - accuracy: 0.8140 - val_loss: 0.4778 - val_accuracy: 0.8306\n",
      "Epoch 15/70\n",
      "625/625 [==============================] - 23s 37ms/step - loss: 0.5522 - accuracy: 0.8133 - val_loss: 0.4715 - val_accuracy: 0.8334\n",
      "Epoch 16/70\n",
      "625/625 [==============================] - 24s 38ms/step - loss: 0.5491 - accuracy: 0.8134 - val_loss: 0.5253 - val_accuracy: 0.8129\n",
      "Epoch 17/70\n",
      "625/625 [==============================] - 23s 37ms/step - loss: 0.5438 - accuracy: 0.8148 - val_loss: 0.5033 - val_accuracy: 0.8231\n",
      "Epoch 18/70\n",
      "625/625 [==============================] - 23s 37ms/step - loss: 0.5467 - accuracy: 0.8124 - val_loss: 0.4801 - val_accuracy: 0.8289\n",
      "Epoch 19/70\n",
      "625/625 [==============================] - 23s 37ms/step - loss: 0.5413 - accuracy: 0.8163 - val_loss: 0.4744 - val_accuracy: 0.8316\n",
      "Epoch 20/70\n",
      "625/625 [==============================] - 24s 38ms/step - loss: 0.5343 - accuracy: 0.8187 - val_loss: 0.5341 - val_accuracy: 0.8152\n",
      "Epoch 21/70\n",
      "625/625 [==============================] - 23s 37ms/step - loss: 0.5333 - accuracy: 0.8195 - val_loss: 0.4634 - val_accuracy: 0.8391\n",
      "Epoch 22/70\n",
      "625/625 [==============================] - 23s 37ms/step - loss: 0.5327 - accuracy: 0.8185 - val_loss: 0.4792 - val_accuracy: 0.8288\n",
      "Epoch 23/70\n",
      "625/625 [==============================] - 24s 38ms/step - loss: 0.5338 - accuracy: 0.8192 - val_loss: 0.4544 - val_accuracy: 0.8393\n",
      "Epoch 24/70\n",
      "625/625 [==============================] - 24s 38ms/step - loss: 0.5267 - accuracy: 0.8224 - val_loss: 0.4625 - val_accuracy: 0.8375\n",
      "Epoch 25/70\n",
      "625/625 [==============================] - 23s 37ms/step - loss: 0.5327 - accuracy: 0.8194 - val_loss: 0.4776 - val_accuracy: 0.8332\n",
      "Epoch 26/70\n",
      "625/625 [==============================] - 23s 37ms/step - loss: 0.5294 - accuracy: 0.8210 - val_loss: 0.4828 - val_accuracy: 0.8345\n",
      "Epoch 27/70\n",
      "625/625 [==============================] - 23s 37ms/step - loss: 0.5265 - accuracy: 0.8209 - val_loss: 0.5155 - val_accuracy: 0.8232\n",
      "Epoch 28/70\n",
      "625/625 [==============================] - 24s 37ms/step - loss: 0.5213 - accuracy: 0.8229 - val_loss: 0.4857 - val_accuracy: 0.8298\n",
      "Epoch 29/70\n",
      "625/625 [==============================] - 23s 37ms/step - loss: 0.5202 - accuracy: 0.8233 - val_loss: 0.4539 - val_accuracy: 0.8443\n",
      "Epoch 30/70\n",
      "625/625 [==============================] - 23s 37ms/step - loss: 0.5166 - accuracy: 0.8259 - val_loss: 0.4838 - val_accuracy: 0.8323\n",
      "Epoch 31/70\n",
      "625/625 [==============================] - 23s 36ms/step - loss: 0.5144 - accuracy: 0.8242 - val_loss: 0.4672 - val_accuracy: 0.8348\n",
      "Epoch 32/70\n",
      "625/625 [==============================] - 23s 37ms/step - loss: 0.5196 - accuracy: 0.8232 - val_loss: 0.4465 - val_accuracy: 0.8463\n",
      "Epoch 33/70\n",
      "625/625 [==============================] - 23s 37ms/step - loss: 0.5093 - accuracy: 0.8261 - val_loss: 0.4900 - val_accuracy: 0.8256\n",
      "Epoch 34/70\n",
      "625/625 [==============================] - 23s 37ms/step - loss: 0.5168 - accuracy: 0.8260 - val_loss: 0.4358 - val_accuracy: 0.8432\n",
      "Epoch 35/70\n",
      "625/625 [==============================] - 23s 37ms/step - loss: 0.5115 - accuracy: 0.8264 - val_loss: 0.4606 - val_accuracy: 0.8379\n",
      "Epoch 36/70\n",
      "625/625 [==============================] - 23s 37ms/step - loss: 0.5145 - accuracy: 0.8258 - val_loss: 0.4795 - val_accuracy: 0.8343\n",
      "Epoch 37/70\n",
      "625/625 [==============================] - 24s 38ms/step - loss: 0.5064 - accuracy: 0.8283 - val_loss: 0.4794 - val_accuracy: 0.8309\n",
      "Epoch 38/70\n",
      "625/625 [==============================] - 23s 37ms/step - loss: 0.5051 - accuracy: 0.8296 - val_loss: 0.4603 - val_accuracy: 0.8405\n",
      "Epoch 39/70\n",
      "625/625 [==============================] - 23s 37ms/step - loss: 0.5067 - accuracy: 0.8289 - val_loss: 0.4484 - val_accuracy: 0.8421\n",
      "Epoch 40/70\n",
      "625/625 [==============================] - 23s 37ms/step - loss: 0.5045 - accuracy: 0.8295 - val_loss: 0.4910 - val_accuracy: 0.8309\n",
      "Epoch 41/70\n",
      "625/625 [==============================] - 23s 37ms/step - loss: 0.4936 - accuracy: 0.8321 - val_loss: 0.5049 - val_accuracy: 0.8223\n",
      "Epoch 42/70\n",
      "625/625 [==============================] - 23s 36ms/step - loss: 0.4958 - accuracy: 0.8312 - val_loss: 0.4970 - val_accuracy: 0.8293\n",
      "Epoch 43/70\n",
      "625/625 [==============================] - 24s 37ms/step - loss: 0.4960 - accuracy: 0.8325 - val_loss: 0.4789 - val_accuracy: 0.8348\n",
      "Epoch 44/70\n",
      "625/625 [==============================] - 23s 37ms/step - loss: 0.4978 - accuracy: 0.8323 - val_loss: 0.4559 - val_accuracy: 0.8390\n",
      "Epoch 00044: early stopping\n",
      "CPU times: user 23min 55s, sys: 3min 13s, total: 27min 8s\n",
      "Wall time: 17min 5s\n"
     ]
    }
   ],
   "source": [
    "%%time\n",
    "batch_size = 64\n",
    "epochs = 70\n",
    "datagen.fit(x_train)\n",
    "\n",
    "# Fit the model on the batches generated by datagen.flow().\n",
    "hist_CNN = model_CNN.fit(datagen.flow(x_train, y_train,\n",
    "                                 batch_size=batch_size),\n",
    "                    epochs=epochs,\n",
    "                    validation_data=(x_val, y_val),\n",
    "                    shuffle=True,\n",
    "                    workers=4,callbacks=[es])"
   ]
  },
  {
   "cell_type": "markdown",
   "metadata": {
    "id": "Lh0eEGMT23Gs"
   },
   "source": [
    "#### Analyse the results"
   ]
  },
  {
   "cell_type": "code",
   "execution_count": null,
   "metadata": {
    "colab": {
     "base_uri": "https://localhost:8080/"
    },
    "id": "ymI3vYGI23Gs",
    "outputId": "a7ec0f7b-a721-4499-c0a5-0f6f50477fac"
   },
   "outputs": [
    {
     "data": {
      "text/plain": [
       "dict_keys(['loss', 'accuracy', 'val_loss', 'val_accuracy'])"
      ]
     },
     "execution_count": 53,
     "metadata": {
      "tags": []
     },
     "output_type": "execute_result"
    }
   ],
   "source": [
    "hist_CNN.history.keys()"
   ]
  },
  {
   "cell_type": "code",
   "execution_count": null,
   "metadata": {
    "colab": {
     "base_uri": "https://localhost:8080/",
     "height": 313
    },
    "id": "Guh3fyTw23Gt",
    "outputId": "a919c241-57e2-46ec-c86b-c17c9ffe1354"
   },
   "outputs": [
    {
     "data": {
      "text/plain": [
       "<matplotlib.legend.Legend at 0x7f9ff5143fd0>"
      ]
     },
     "execution_count": 54,
     "metadata": {
      "tags": []
     },
     "output_type": "execute_result"
    },
    {
     "data": {
      "image/png": "[encoded data removed]",
      "text/plain": [
       "<Figure size 432x288 with 1 Axes>"
      ]
     },
     "metadata": {
      "needs_background": "light",
      "tags": []
     },
     "output_type": "display_data"
    }
   ],
   "source": [
    "plt.plot(hist_CNN.history['accuracy'], label='training set',marker='o', linestyle='solid',linewidth=1, markersize=6)\n",
    "plt.plot(hist_CNN.history['val_accuracy'], label='validation set',marker='o', linestyle='solid',linewidth=1, markersize=6)\n",
    "plt.title(\"CNN-model accuracy\")\n",
    "plt.xlabel('#Epochs')\n",
    "plt.ylabel('Acuracy')\n",
    "plt.legend(bbox_to_anchor=( 1., 1.))"
   ]
  },
  {
   "cell_type": "code",
   "execution_count": null,
   "metadata": {
    "colab": {
     "base_uri": "https://localhost:8080/",
     "height": 313
    },
    "id": "rAAv4b0Q23Gu",
    "outputId": "12c1a65e-1878-4316-e1e1-65ffd99bad7a",
    "scrolled": true
   },
   "outputs": [
    {
     "data": {
      "text/plain": [
       "<matplotlib.legend.Legend at 0x7f9ff5130550>"
      ]
     },
     "execution_count": 55,
     "metadata": {
      "tags": []
     },
     "output_type": "execute_result"
    },
    {
     "data": {
      "image/png": "[encoded data removed]",
      "text/plain": [
       "<Figure size 432x288 with 1 Axes>"
      ]
     },
     "metadata": {
      "needs_background": "light",
      "tags": []
     },
     "output_type": "display_data"
    }
   ],
   "source": [
    "plt.plot(hist_CNN.history['loss'], label='training set',marker='o', linestyle='solid',linewidth=1, markersize=6)\n",
    "plt.plot(hist_CNN.history['val_loss'], label='validation set',marker='o', linestyle='solid',linewidth=1, markersize=6)\n",
    "plt.title(\"CNN-model loss\")\n",
    "plt.xlabel('#Epochs')\n",
    "plt.ylabel('Total Loss')\n",
    "plt.legend(bbox_to_anchor=( 1.35, 1.))"
   ]
  },
  {
   "cell_type": "markdown",
   "metadata": {
    "id": "ELtxPspHB8HL"
   },
   "source": [
    "I got a final accuracy on the validation set of 0.86."
   ]
  },
  {
   "cell_type": "markdown",
   "metadata": {
    "id": "WgWTcJqMzbvb"
   },
   "source": [
    "### MLP (Sequence API)"
   ]
  },
  {
   "cell_type": "markdown",
   "metadata": {},
   "source": [
    "Main functions:\n",
    "\n",
    "layers.Dense(units,...): units correspond to the number of neurons of the layer;\n",
    "layers.BatchNormalization(): normalize the pre-activations;\n",
    "layers.ReLU(): computes the activation function ReLU;\n",
    "layers.Dropout(): regularization technique - some units are hidden during the training phase. They are chosen randomly at each train step."
   ]
  },
  {
   "cell_type": "code",
   "execution_count": null,
   "metadata": {
    "id": "R7oz_Piyszuy"
   },
   "outputs": [],
   "source": [
    "clear_session()"
   ]
  },
  {
   "cell_type": "code",
   "execution_count": null,
   "metadata": {
    "colab": {
     "base_uri": "https://localhost:8080/"
    },
    "id": "ixpFVY6xQMWP",
    "outputId": "a190ea13-0790-4738-e1c6-959cd64eee30"
   },
   "outputs": [
    {
     "name": "stdout",
     "output_type": "stream",
     "text": [
      "Model: \"sequential_1\"\n",
      "_________________________________________________________________\n",
      "Layer (type)                 Output Shape              Param #   \n",
      "=================================================================\n",
      "flatten_1 (Flatten)          (None, 3072)              0         \n",
      "_________________________________________________________________\n",
      "dense_1 (Dense)              (None, 128)               393344    \n",
      "_________________________________________________________________\n",
      "batch_normalization_6 (Batch (None, 128)               512       \n",
      "_________________________________________________________________\n",
      "re_lu (ReLU)                 (None, 128)               0         \n",
      "_________________________________________________________________\n",
      "dropout_3 (Dropout)          (None, 128)               0         \n",
      "_________________________________________________________________\n",
      "dense_2 (Dense)              (None, 64)                8256      \n",
      "_________________________________________________________________\n",
      "batch_normalization_7 (Batch (None, 64)                256       \n",
      "_________________________________________________________________\n",
      "re_lu_1 (ReLU)               (None, 64)                0         \n",
      "_________________________________________________________________\n",
      "dropout_4 (Dropout)          (None, 64)                0         \n",
      "_________________________________________________________________\n",
      "dense_3 (Dense)              (None, 10)                650       \n",
      "=================================================================\n",
      "Total params: 403,018\n",
      "Trainable params: 402,634\n",
      "Non-trainable params: 384\n",
      "_________________________________________________________________\n"
     ]
    }
   ],
   "source": [
    "model_MLP = Sequential()\n",
    "\n",
    "model_MLP.add(Flatten(input_shape=(32, 32, 3)))\n",
    "\n",
    "model_MLP.add(Dense(128,input_shape=(3072,))) \n",
    "model_MLP.add(BatchNormalization())\n",
    "model_MLP.add(ReLU())\n",
    "model_MLP.add(Dropout(0.25))\n",
    "\n",
    "model_MLP.add(Dense(64)) \n",
    "model_MLP.add(BatchNormalization())\n",
    "model_MLP.add(ReLU())\n",
    "model_MLP.add(Dropout(0.25))\n",
    "\n",
    "model_MLP.add(Dense(num_classes, activation='softmax'))\n",
    "\n",
    "model_MLP.summary()"
   ]
  },
  {
   "cell_type": "markdown",
   "metadata": {
    "id": "2yuHUAqv0qFK"
   },
   "source": [
    "#### Train the model"
   ]
  },
  {
   "cell_type": "code",
   "execution_count": null,
   "metadata": {
    "id": "jvMaL5ypCJty"
   },
   "outputs": [],
   "source": [
    "opt = Adam(lr=0.001)"
   ]
  },
  {
   "cell_type": "code",
   "execution_count": null,
   "metadata": {
    "id": "PyqlCGdGCJtz"
   },
   "outputs": [],
   "source": [
    "model_MLP.compile(loss='categorical_crossentropy',\n",
    "              optimizer=opt,\n",
    "              metrics=['accuracy'])"
   ]
  },
  {
   "cell_type": "code",
   "execution_count": null,
   "metadata": {
    "id": "QdrlGm2xCUiL"
   },
   "outputs": [],
   "source": [
    "from keras.callbacks import EarlyStopping\n",
    "es = EarlyStopping(monitor='val_loss', mode='min', verbose=1, patience = 10)"
   ]
  },
  {
   "cell_type": "code",
   "execution_count": null,
   "metadata": {
    "colab": {
     "base_uri": "https://localhost:8080/"
    },
    "id": "lXEPMm8Fzu3g",
    "outputId": "1eede67f-fdef-4084-9c07-27f7145445e1"
   },
   "outputs": [
    {
     "name": "stdout",
     "output_type": "stream",
     "text": [
      "Epoch 1/50\n",
      "625/625 [==============================] - 3s 4ms/step - loss: 1.8652 - accuracy: 0.3353 - val_loss: 2.0044 - val_accuracy: 0.2736\n",
      "Epoch 2/50\n",
      "625/625 [==============================] - 2s 4ms/step - loss: 1.6637 - accuracy: 0.4030 - val_loss: 1.6516 - val_accuracy: 0.4147\n",
      "Epoch 3/50\n",
      "625/625 [==============================] - 2s 4ms/step - loss: 1.5883 - accuracy: 0.4311 - val_loss: 1.5638 - val_accuracy: 0.4490\n",
      "Epoch 4/50\n",
      "625/625 [==============================] - 2s 4ms/step - loss: 1.5399 - accuracy: 0.4482 - val_loss: 1.5611 - val_accuracy: 0.4377\n",
      "Epoch 5/50\n",
      "625/625 [==============================] - 2s 4ms/step - loss: 1.5061 - accuracy: 0.4601 - val_loss: 1.6310 - val_accuracy: 0.4134\n",
      "Epoch 6/50\n",
      "625/625 [==============================] - 2s 4ms/step - loss: 1.4737 - accuracy: 0.4739 - val_loss: 1.6343 - val_accuracy: 0.4193\n",
      "Epoch 7/50\n",
      "625/625 [==============================] - 2s 4ms/step - loss: 1.4504 - accuracy: 0.4809 - val_loss: 1.4956 - val_accuracy: 0.4761\n",
      "Epoch 8/50\n",
      "625/625 [==============================] - 2s 4ms/step - loss: 1.4276 - accuracy: 0.4866 - val_loss: 1.5073 - val_accuracy: 0.4614\n",
      "Epoch 9/50\n",
      "625/625 [==============================] - 2s 4ms/step - loss: 1.4039 - accuracy: 0.4983 - val_loss: 1.5742 - val_accuracy: 0.4466\n",
      "Epoch 10/50\n",
      "625/625 [==============================] - 2s 4ms/step - loss: 1.3833 - accuracy: 0.5061 - val_loss: 1.4788 - val_accuracy: 0.4715\n",
      "Epoch 11/50\n",
      "625/625 [==============================] - 2s 4ms/step - loss: 1.3662 - accuracy: 0.5085 - val_loss: 1.5142 - val_accuracy: 0.4627\n",
      "Epoch 12/50\n",
      "625/625 [==============================] - 2s 4ms/step - loss: 1.3549 - accuracy: 0.5134 - val_loss: 1.4860 - val_accuracy: 0.4723\n",
      "Epoch 13/50\n",
      "625/625 [==============================] - 2s 4ms/step - loss: 1.3366 - accuracy: 0.5219 - val_loss: 1.5744 - val_accuracy: 0.4531\n",
      "Epoch 14/50\n",
      "625/625 [==============================] - 2s 4ms/step - loss: 1.3148 - accuracy: 0.5251 - val_loss: 1.4970 - val_accuracy: 0.4633\n",
      "Epoch 15/50\n",
      "625/625 [==============================] - 2s 4ms/step - loss: 1.3105 - accuracy: 0.5304 - val_loss: 1.4737 - val_accuracy: 0.4757\n",
      "Epoch 16/50\n",
      "625/625 [==============================] - 2s 4ms/step - loss: 1.2998 - accuracy: 0.5335 - val_loss: 1.4725 - val_accuracy: 0.4749\n",
      "Epoch 17/50\n",
      "625/625 [==============================] - 2s 4ms/step - loss: 1.2889 - accuracy: 0.5379 - val_loss: 1.5177 - val_accuracy: 0.4589\n",
      "Epoch 18/50\n",
      "625/625 [==============================] - 2s 4ms/step - loss: 1.2823 - accuracy: 0.5405 - val_loss: 1.5495 - val_accuracy: 0.4391\n",
      "Epoch 19/50\n",
      "625/625 [==============================] - 2s 4ms/step - loss: 1.2587 - accuracy: 0.5501 - val_loss: 1.5069 - val_accuracy: 0.4758\n",
      "Epoch 20/50\n",
      "625/625 [==============================] - 2s 4ms/step - loss: 1.2566 - accuracy: 0.5525 - val_loss: 1.4105 - val_accuracy: 0.4978\n",
      "Epoch 21/50\n",
      "625/625 [==============================] - 2s 4ms/step - loss: 1.2470 - accuracy: 0.5548 - val_loss: 1.4249 - val_accuracy: 0.4854\n",
      "Epoch 22/50\n",
      "625/625 [==============================] - 2s 4ms/step - loss: 1.2407 - accuracy: 0.5560 - val_loss: 1.4963 - val_accuracy: 0.4685\n",
      "Epoch 23/50\n",
      "625/625 [==============================] - 2s 4ms/step - loss: 1.2291 - accuracy: 0.5594 - val_loss: 1.5043 - val_accuracy: 0.4620\n",
      "Epoch 24/50\n",
      "625/625 [==============================] - 2s 4ms/step - loss: 1.2219 - accuracy: 0.5639 - val_loss: 1.5373 - val_accuracy: 0.4521\n",
      "Epoch 25/50\n",
      "625/625 [==============================] - 2s 4ms/step - loss: 1.2124 - accuracy: 0.5648 - val_loss: 1.4129 - val_accuracy: 0.4962\n",
      "Epoch 26/50\n",
      "625/625 [==============================] - 2s 4ms/step - loss: 1.2097 - accuracy: 0.5656 - val_loss: 1.5368 - val_accuracy: 0.4634\n",
      "Epoch 27/50\n",
      "625/625 [==============================] - 2s 4ms/step - loss: 1.2014 - accuracy: 0.5688 - val_loss: 1.4146 - val_accuracy: 0.4986\n",
      "Epoch 28/50\n",
      "625/625 [==============================] - 2s 4ms/step - loss: 1.1872 - accuracy: 0.5760 - val_loss: 1.4196 - val_accuracy: 0.5029\n",
      "Epoch 29/50\n",
      "625/625 [==============================] - 2s 4ms/step - loss: 1.1804 - accuracy: 0.5755 - val_loss: 1.4631 - val_accuracy: 0.4816\n",
      "Epoch 30/50\n",
      "625/625 [==============================] - 2s 4ms/step - loss: 1.1809 - accuracy: 0.5768 - val_loss: 1.4719 - val_accuracy: 0.4844\n",
      "Epoch 00030: early stopping\n",
      "CPU times: user 1min 21s, sys: 10.4 s, total: 1min 31s\n",
      "Wall time: 1min 13s\n"
     ]
    }
   ],
   "source": [
    "%%time \n",
    "batch_size = 64\n",
    "epochs = 50\n",
    "#Theses hyperparameters can be declared in a same block with N_HIDDEN_NODES...\n",
    "\n",
    "hist_MLP = model_MLP.fit(x_train, y_train,\n",
    "              batch_size=batch_size,\n",
    "              epochs=epochs,\n",
    "              validation_data=(x_val, y_val),\n",
    "              shuffle=True,\n",
    "              callbacks=[es])"
   ]
  },
  {
   "cell_type": "markdown",
   "metadata": {
    "id": "Bf2bCOxwCtFb"
   },
   "source": [
    "#### Analyse the results"
   ]
  },
  {
   "cell_type": "code",
   "execution_count": null,
   "metadata": {
    "colab": {
     "base_uri": "https://localhost:8080/"
    },
    "id": "curGaJ1XCtFb",
    "outputId": "415b4fa3-455a-4da6-de82-3e9696bc13ac"
   },
   "outputs": [
    {
     "data": {
      "text/plain": [
       "dict_keys(['loss', 'accuracy', 'val_loss', 'val_accuracy'])"
      ]
     },
     "execution_count": 103,
     "metadata": {
      "tags": []
     },
     "output_type": "execute_result"
    }
   ],
   "source": [
    "hist_MLP.history.keys()"
   ]
  },
  {
   "cell_type": "code",
   "execution_count": null,
   "metadata": {
    "colab": {
     "base_uri": "https://localhost:8080/",
     "height": 314
    },
    "id": "5vjqUlNHCtFb",
    "outputId": "3c510d56-f977-4ca1-923e-5773eefbcc7e"
   },
   "outputs": [
    {
     "data": {
      "text/plain": [
       "<matplotlib.legend.Legend at 0x7fe90c8c1828>"
      ]
     },
     "execution_count": 104,
     "metadata": {
      "tags": []
     },
     "output_type": "execute_result"
    },
    {
     "data": {
      "image/png": "[encoded data removed]",
      "text/plain": [
       "<Figure size 432x288 with 1 Axes>"
      ]
     },
     "metadata": {
      "needs_background": "light",
      "tags": []
     },
     "output_type": "display_data"
    }
   ],
   "source": [
    "plt.plot(hist_MLP.history['accuracy'], label='training set',marker='o', linestyle='solid',linewidth=1, markersize=6)\n",
    "plt.plot(hist_MLP.history['val_accuracy'], label='validation set',marker='o', linestyle='solid',linewidth=1, markersize=6)\n",
    "plt.title(\"CNN-model accuracy\")\n",
    "plt.xlabel('#Epochs')\n",
    "plt.ylabel('Acuracy')\n",
    "plt.legend(bbox_to_anchor=( 1., 1.))"
   ]
  },
  {
   "cell_type": "code",
   "execution_count": null,
   "metadata": {
    "colab": {
     "base_uri": "https://localhost:8080/",
     "height": 314
    },
    "id": "WNgeUw8gCtFb",
    "outputId": "49a0c9c9-2214-4606-f0fa-78aa0fbdf76f",
    "scrolled": true
   },
   "outputs": [
    {
     "data": {
      "text/plain": [
       "<matplotlib.legend.Legend at 0x7fe90c8a6a20>"
      ]
     },
     "execution_count": 105,
     "metadata": {
      "tags": []
     },
     "output_type": "execute_result"
    },
    {
     "data": {
      "image/png": "[encoded data removed]",
      "text/plain": [
       "<Figure size 432x288 with 1 Axes>"
      ]
     },
     "metadata": {
      "needs_background": "light",
      "tags": []
     },
     "output_type": "display_data"
    }
   ],
   "source": [
    "plt.plot(hist_MLP.history['loss'], label='training set',marker='o', linestyle='solid',linewidth=1, markersize=6)\n",
    "plt.plot(hist_MLP.history['val_loss'], label='validation set',marker='o', linestyle='solid',linewidth=1, markersize=6)\n",
    "plt.title(\"CNN-model loss\")\n",
    "plt.xlabel('#Epochs')\n",
    "plt.ylabel('Total Loss')\n",
    "plt.legend(bbox_to_anchor=( 1.35, 1.))"
   ]
  },
  {
   "cell_type": "markdown",
   "metadata": {
    "id": "aBrHKvGw5AUd"
   },
   "source": [
    "#### Compute the confusion matrix"
   ]
  },
  {
   "cell_type": "code",
   "execution_count": null,
   "metadata": {
    "id": "0Kwb5Ohh4eP-"
   },
   "outputs": [],
   "source": [
    "from sklearn.metrics import confusion_matrix,classification_report\n",
    "y_pred = model_CNN.predict(x_val)\n",
    "y_pred = np.argmax(y_pred, axis=1)\n",
    "y_pred = [LABELS[y_]for y_ in y_pred]\n",
    "y_pred"
   ]
  },
  {
   "cell_type": "code",
   "execution_count": null,
   "metadata": {
    "id": "g9l_xBMP4hq2"
   },
   "outputs": [],
   "source": [
    "y_true = np.argmax(y_val, axis=1)\n",
    "y_true = [LABELS[y_] for y_ in y_true]\n",
    "y_true"
   ]
  },
  {
   "cell_type": "code",
   "execution_count": null,
   "metadata": {
    "id": "d3oq5EX34mZ9"
   },
   "outputs": [],
   "source": [
    "cm = confusion_matrix(y_true=y_true,y_pred=y_pred,labels=list(LABELS.values()))\n",
    "cm"
   ]
  },
  {
   "cell_type": "code",
   "execution_count": null,
   "metadata": {
    "id": "RAJf_1HT4v8H"
   },
   "outputs": [],
   "source": [
    "disp = ConfusionMatrixDisplay(cm,display_labels=list(LABELS.values()))\n",
    "disp.plot()"
   ]
  },
  {
   "cell_type": "markdown",
   "metadata": {
    "id": "95kfBON0QMWW"
   },
   "source": [
    "### Compare MLP and CNN"
   ]
  },
  {
   "cell_type": "markdown",
   "metadata": {
    "id": "USJ3081KQMWW"
   },
   "source": [
    "##### Evaluate the two models on the final test set"
   ]
  },
  {
   "cell_type": "markdown",
   "metadata": {
    "id": "Dl5nXDFpQMWW"
   },
   "source": [
    "Configure them with the best combination of hyperparameters and change only this fonction:"
   ]
  },
  {
   "cell_type": "code",
   "execution_count": null,
   "metadata": {
    "id": "ZD4fPVH5QMWW"
   },
   "outputs": [],
   "source": [
    "model.fit(x=X_train_original,y=y_train_original,\n",
    "                  epochs=EPOCHS,batch_size=BATCH_SIZE,verbose=1,\n",
    "                  class_weight=class_weights,\n",
    "                  shuffle=True,\n",
    "                  validation_data=(x_test, y_test))"
   ]
  },
  {
   "cell_type": "markdown",
   "metadata": {
    "id": "1LP-Wlv4QMWW"
   },
   "source": [
    "Train a last time on the entire training set (validation set included) and evaluate the model on the test set"
   ]
  },
  {
   "cell_type": "code",
   "execution_count": null,
   "metadata": {
    "id": "uNlv4b3DQMWW"
   },
   "outputs": [],
   "source": [
    "print('\\n# Evaluate on test data')\n",
    "results = model.evaluate(x_test, y_test, batch_size=128)\n",
    "print('test loss, test acc:', results)"
   ]
  },
  {
   "cell_type": "markdown",
   "metadata": {
    "id": "ktvyrMmCQMWW"
   },
   "source": [
    "##### Which model is the best ?"
   ]
  },
  {
   "cell_type": "markdown",
   "metadata": {
    "id": "Q9hn_lCMQMWW"
   },
   "source": [
    "It is clear that the CNN achieved the best results."
   ]
  }
 ],
 "metadata": {
  "accelerator": "GPU",
  "colab": {
   "provenance": [],
   "toc_visible": true
  },
  "kernelspec": {
   "display_name": "Python 3 (ipykernel)",
   "language": "python",
   "name": "python3"
  },
  "language_info": {
   "codemirror_mode": {
    "name": "ipython",
    "version": 3
   },
   "file_extension": ".py",
   "mimetype": "text/x-python",
   "name": "python",
   "nbconvert_exporter": "python",
   "pygments_lexer": "ipython3",
   "version": "3.10.8"
  },
  "toc": {
   "base_numbering": 1,
   "nav_menu": {},
   "number_sections": true,
   "sideBar": true,
   "skip_h1_title": false,
   "title_cell": "Table of Contents",
   "title_sidebar": "Contents",
   "toc_cell": false,
   "toc_position": {},
   "toc_section_display": true,
   "toc_window_display": false
  },
  "varInspector": {
   "cols": {
    "lenName": 16,
    "lenType": 16,
    "lenVar": 40
   },
   "kernels_config": {
    "python": {
     "delete_cmd_postfix": "",
     "delete_cmd_prefix": "del ",
     "library": "var_list.py",
     "varRefreshCmd": "print(var_dic_list())"
    },
    "r": {
     "delete_cmd_postfix": ") ",
     "delete_cmd_prefix": "rm(",
     "library": "var_list.r",
     "varRefreshCmd": "cat(var_dic_list()) "
    }
   },
   "types_to_exclude": [
    "module",
    "function",
    "builtin_function_or_method",
    "instance",
    "_Feature"
   ],
   "window_display": false
  }
 },
 "nbformat": 4,
 "nbformat_minor": 1
}
